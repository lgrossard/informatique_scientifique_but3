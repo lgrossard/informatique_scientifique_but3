{
 "cells": [
  {
   "cell_type": "markdown",
   "id": "707564bf",
   "metadata": {},
   "source": [
    "# Importation de données depuis des fichiers CSV"
   ]
  },
  {
   "cell_type": "markdown",
   "id": "26a3b6fd",
   "metadata": {},
   "source": [
    "On souhaite importer des données numériques contenues dans des fichiers CSV à l'aide de Numpy. Nous pouvons utiliser pour cela la fonction `loadtxt` ([documentation de loadtxt](https://numpy.org/doc/stable/reference/generated/numpy.loadtxt.html))\n",
    "\n",
    "Commençons par un fichier CSV nommé `data1.csv` et contenant des nombre entiers signés. On utilise la commande Unix `cat` pour afficher le contenu du fichier"
   ]
  },
  {
   "cell_type": "code",
   "execution_count": null,
   "id": "644ffc51",
   "metadata": {},
   "outputs": [],
   "source": [
    "!cat data1.csv"
   ]
  },
  {
   "cell_type": "markdown",
   "id": "f5f5699a",
   "metadata": {},
   "source": [
    "On constate alors que le séparateur de champ est ici la virgule. Pour ouvrir le fichier CSV et le placer dans un tableau de type ndarray, il faut indiquer à la fonction `loadtxt` le nom du fichier à ouvrir. Par défaut, le séparateur de champ est l'espace donc il faut indiquer ici également le séparateur de champ. On affiche ensuite le tableau numpy pour s'assurer que les données ont bien été importées."
   ]
  },
  {
   "cell_type": "code",
   "execution_count": null,
   "id": "9794f25a",
   "metadata": {},
   "outputs": [],
   "source": [
    "import numpy as np\n",
    "valeurs1 = np.loadtxt('data1.csv', delimiter=',')\n",
    "valeurs1"
   ]
  },
  {
   "cell_type": "markdown",
   "id": "149dbc64",
   "metadata": {},
   "source": [
    "Regardons maintenant le fichier `data2.csv`, dans lequels certaines lignes ont été marquées comme « commentées » grâce à l'ajout du caractère # en début de ligne. Ce caractère est très courant pour marquer un commentaire."
   ]
  },
  {
   "cell_type": "code",
   "execution_count": null,
   "id": "68ceb201",
   "metadata": {},
   "outputs": [],
   "source": [
    "!cat data2.csv"
   ]
  },
  {
   "cell_type": "markdown",
   "id": "2c4867ca",
   "metadata": {},
   "source": [
    "Ouvrons ce fichier CSV et plaçons les données qu'il contient dans `valeurs2` :"
   ]
  },
  {
   "cell_type": "code",
   "execution_count": null,
   "id": "da6fc451",
   "metadata": {},
   "outputs": [],
   "source": [
    "valeurs2 = np.loadtxt('data2.csv', delimiter=',')\n",
    "valeurs2"
   ]
  },
  {
   "cell_type": "markdown",
   "id": "c34dd271",
   "metadata": {},
   "source": [
    "Remarquez que les lignes commentées ont été automatiquement ignorées lors de l'importation. Si jamais le symbole utilisé pour commenter les lignes n'est pas #, prenons par exemple le symbole « ; », alors il suffit d'ajouter dans l'appel de la fonction `loadtxt` le paramètre supplémentaire `comments=';'`. Facile, non ?"
   ]
  },
  {
   "cell_type": "markdown",
   "id": "86b7a357",
   "metadata": {},
   "source": [
    "Terminons par un dernier cas où le fichier CSV contient une en-tête avec des données à ignorer, mais non précédées du caractère #. Voici un exemple avec le fichier data3.csv :"
   ]
  },
  {
   "cell_type": "code",
   "execution_count": null,
   "id": "435b9aaf",
   "metadata": {},
   "outputs": [],
   "source": [
    "!cat data3.csv"
   ]
  },
  {
   "cell_type": "markdown",
   "id": "f506c91c",
   "metadata": {},
   "source": [
    "Les trois premières lignes ne sont clairement pas des données à importer, et il faut les « passer » (skip en anglais). On importera alors avec la ligne suivante :"
   ]
  },
  {
   "cell_type": "code",
   "execution_count": null,
   "id": "9924032f",
   "metadata": {},
   "outputs": [],
   "source": [
    "valeurs3 = np.loadtxt('data3.csv', delimiter=',', skiprows=3)\n",
    "valeurs3"
   ]
  },
  {
   "cell_type": "markdown",
   "id": "9fc0cca7",
   "metadata": {},
   "source": [
    "L'importation s'est correctement déroulée, et les trois premières lignes ont été correctement ignorées lors de l'importation."
   ]
  },
  {
   "cell_type": "markdown",
   "id": "2511f0a4",
   "metadata": {},
   "source": [
    "Voilà, vous savez maintenant l'essentiel pour importer des données CSV dans Jupyter et Numpy !"
   ]
  },
  {
   "cell_type": "code",
   "execution_count": null,
   "id": "cb96ede7",
   "metadata": {},
   "outputs": [],
   "source": []
  }
 ],
 "metadata": {
  "kernelspec": {
   "display_name": "Python 3 (ipykernel)",
   "language": "python",
   "name": "python3"
  },
  "language_info": {
   "codemirror_mode": {
    "name": "ipython",
    "version": 3
   },
   "file_extension": ".py",
   "mimetype": "text/x-python",
   "name": "python",
   "nbconvert_exporter": "python",
   "pygments_lexer": "ipython3",
   "version": "3.12.3"
  }
 },
 "nbformat": 4,
 "nbformat_minor": 5
}
