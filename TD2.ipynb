{
 "cells": [
  {
   "cell_type": "markdown",
   "id": "48c2495f",
   "metadata": {},
   "source": [
    "# Oscillateur harmonique amorti par frottement visqueux"
   ]
  },
  {
   "cell_type": "markdown",
   "id": "96a22a76",
   "metadata": {},
   "source": [
    "L'une des extrémités d'un ressort, de constante de raideur et de longueur à vide, est accrochée à support vertical fixe. On vient attacher à l'autre extrémité un bloc de masse $m$. Le tout est immergé dans l'eau et le bloc est choisi de manière à ce que la poussée d'Archimède compense exactement son poids. Le poids du ressort et les forces de frottements sur celui-ci sont négligées."
   ]
  },
  {
   "cell_type": "markdown",
   "id": "95dbe5a2",
   "metadata": {},
   "source": [
    "<img src=\"oscillateur.png\" width=\"300px\">"
   ]
  },
  {
   "cell_type": "markdown",
   "id": "ccb4b1be",
   "metadata": {},
   "source": [
    "Le bloc est écarté d'une distance de sa position d'équilibre. Il est ensuite lâché à l'instant $t=0$, sans vitesse initiale. On enregistre alors la position du bloc en fonction du temps. Les données sont placées dans le fichier `oscillateur.csv` disponible dans le dossier de travail."
   ]
  },
  {
   "cell_type": "markdown",
   "id": "d36c5a01",
   "metadata": {},
   "source": [
    "Ouvrez les données contenues dans le fichier CSV et tracez l'évolution de la position du bloc en fonction du temps. N'oubliez pas les légendes, les unités et le titre."
   ]
  },
  {
   "cell_type": "markdown",
   "id": "f383a72c",
   "metadata": {},
   "source": [
    "La position du bloc en fonction du temps peut être modélisée par la relation suivante :\n",
    "\n",
    "$$\n",
    "x(t) = A \\cdot \\exp\\left(-\\cfrac{\\gamma \\cdot t}{2}\\right) \\cdot \\cos \\left( \\omega t + \\varphi \\right)\n",
    "$$"
   ]
  },
  {
   "cell_type": "markdown",
   "id": "17173a5e",
   "metadata": {},
   "source": [
    "En utilisant une méthode d'ajustement de courbe, déterminez la valeur du coefficient d'amortissement $\\gamma$ en $s^{-1}$ ainsi que la fréquence de l'oscillation $\\nu=\\omega/2\\pi$."
   ]
  },
  {
   "cell_type": "markdown",
   "id": "b4d97155",
   "metadata": {},
   "source": [
    "Ajoutez alors sur un nouveau graphique le tracé précédent ainsi que les fonctions $\\epsilon(t)=A\\cdot\\exp(-\\gamma t / 2)$ et $\\epsilon'(t)=-A\\cdot\\exp(-\\gamma t / 2)$ en réutilisant les valeurs déterminées par ajustement. Ces deux fonctions correspondent à l'enveloppe du signal qui a été enregistré. Les courbes seront tracées en pointillés rouges avec une épaisseur de trait de 2 points. Complétez les légendes pour les courbes ajoutées (ajustement, enveloppe$+$, enveloppe$-$)"
   ]
  },
  {
   "cell_type": "code",
   "execution_count": null,
   "id": "e983ea34",
   "metadata": {},
   "outputs": [],
   "source": []
  }
 ],
 "metadata": {
  "kernelspec": {
   "display_name": "Python 3 (ipykernel)",
   "language": "python",
   "name": "python3"
  },
  "language_info": {
   "codemirror_mode": {
    "name": "ipython",
    "version": 3
   },
   "file_extension": ".py",
   "mimetype": "text/x-python",
   "name": "python",
   "nbconvert_exporter": "python",
   "pygments_lexer": "ipython3",
   "version": "3.10.12"
  }
 },
 "nbformat": 4,
 "nbformat_minor": 5
}
