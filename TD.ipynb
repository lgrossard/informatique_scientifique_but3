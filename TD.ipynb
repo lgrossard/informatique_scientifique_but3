{
 "cells": [
  {
   "cell_type": "markdown",
   "id": "0b316a65",
   "metadata": {},
   "source": [
    "# Traitement d'un signal sinusoïdal"
   ]
  },
  {
   "cell_type": "markdown",
   "id": "f49f6fe7",
   "metadata": {},
   "source": [
    "Tout au long de ce travail, vous pouvez consulter les quelques [tutoriels](tutoriels.ipynb) mis à votre disposition"
   ]
  },
  {
   "cell_type": "markdown",
   "id": "5b7de389",
   "metadata": {},
   "source": [
    "## Ouverture des données"
   ]
  },
  {
   "cell_type": "markdown",
   "id": "19c3df40",
   "metadata": {},
   "source": [
    "Vous allez travailler sur le fichier `tension.csv` disponible sur Moodle. Dans un premier temps, téléchargez ce fichier sur votre ordinateur. \n",
    "\n",
    "Ouvrez le fichier `tension.csv` avec un éditeur de texte :\n",
    "- quel est le séparateur de champ utilisé ?\n",
    "- quel est le séparateur décimal utilisé ?\n",
    "- quels est le symbole utilisé pour les commentaires ?\n",
    "- combien y a-t-il de lignes de données ?\n",
    "\n",
    "Vous allez maintenant déposer le fichier `tension.csv` sur la plateforme Jupyter. Pour celà, allez dans la « Home Page » (l'onglet est peut-être ouvert dans votre navigateur, sinon cliquez sur l'icône jupyter en haut de page à gauche avec le bouton gauche de la souris, et choissez `Ouvrir le lien dans un nouvel onglet`). Allez dans le dossier `informatique_scientifique_but3`. Cliquez ensuite sur le bouton « upload » (téléverser) puis sur le bouton bleu « upload ». Vérifiez que le fichier apparaît bien dans la liste de vos fichiers."
   ]
  },
  {
   "cell_type": "markdown",
   "id": "c85d0885",
   "metadata": {},
   "source": [
    "Vous allez maintenant utiliser ici une commande Unix pour vérifier que le fichier est bien accessible. Pour utiliser une commande unix dans Jupyter, il suffit de la préfixer du caractère `!`.\n",
    "\n",
    "Pour lister les fichiers dans le dossier courant, la commande unix est `ls` (pour **l**i**s**ter les fichiers). "
   ]
  },
  {
   "cell_type": "code",
   "execution_count": 1,
   "id": "a3b59921",
   "metadata": {},
   "outputs": [],
   "source": [
    "# Ajoutez ici la commande pour afficher les fichiers dans le dossier de travail\n"
   ]
  },
  {
   "cell_type": "markdown",
   "id": "4966ccb8",
   "metadata": {},
   "source": [
    "Vous allez maintenant afficher les premières lignes du fichier `tension.csv` avec la commande unix `head`, suivie du nom du fichier. Cet affichage vous permet d'identifier l'en-tête, le séparateur décimal, le séparateur de champs, les commentaires. Vous devriez retrouver les mêmes lignes que celles obtenues dans l'éditeur de texte."
   ]
  },
  {
   "cell_type": "code",
   "execution_count": 2,
   "id": "584ee6fe",
   "metadata": {
    "scrolled": true
   },
   "outputs": [],
   "source": [
    "# Ajoutez ici la commande pour afficher les premières lignes du fichier tension.csv\n"
   ]
  },
  {
   "cell_type": "markdown",
   "id": "ef29a5d2",
   "metadata": {},
   "source": [
    "Importez maintenant le contenu du fichier `tension.csv` dans Jupyter grâce à la commande `loadtxt` (voir le tutoriel <a href=\"loadtxt.ipynb\" target=\"_blank\">Importation de données depuis des fichiers CSV</a>). Placez les données dans la variable `data`. Indiquez bien quel est le séparateur de champ à utiliser, et le nombre de ligne d'en-tête à ignorer."
   ]
  },
  {
   "cell_type": "code",
   "execution_count": 3,
   "id": "eab22fd1",
   "metadata": {},
   "outputs": [],
   "source": [
    "# Ajoutez ici le code pour importater numpy (sous le nom np)\n",
    "# puis le code pour importer le contenu de tension.csv dans la variable data\n"
   ]
  },
  {
   "cell_type": "markdown",
   "id": "d3eab30c",
   "metadata": {},
   "source": [
    "## Préparation des données"
   ]
  },
  {
   "cell_type": "markdown",
   "id": "8513578e",
   "metadata": {},
   "source": [
    "Pour cette partie, vous devez consulter le tutoriel <a href=\"ndarray_2D.ipynb\" target=\"_blank\">Manipulation de ndarray à deux dimensions</a>\n",
    "\n",
    "Extrayez chacune des deux colonnes de data : \n",
    "- la première colonne sera placée dans une variable `t`\n",
    "- le seconde dans une variable `V`"
   ]
  },
  {
   "cell_type": "code",
   "execution_count": 4,
   "id": "f42d6ae6",
   "metadata": {},
   "outputs": [],
   "source": [
    "# Ajoutez ici le code pour placer la première colonne de data dans t, et de la seconde dans V\n"
   ]
  },
  {
   "cell_type": "markdown",
   "id": "0e0ca1b4",
   "metadata": {},
   "source": [
    "Affichez les cinq premières valeurs de `t` puis de `V` pour vous assurer que l'extraction des colonnes s'est bien passée"
   ]
  },
  {
   "cell_type": "code",
   "execution_count": 5,
   "id": "1fb7afca",
   "metadata": {},
   "outputs": [],
   "source": [
    "# Ajoutez ici le code pour afficher les cinq premières valeurs de t\n"
   ]
  },
  {
   "cell_type": "code",
   "execution_count": 6,
   "id": "d0806023",
   "metadata": {},
   "outputs": [],
   "source": [
    "# Ajoutez ici le code pour afficher les cinq premières valeurs de V\n"
   ]
  },
  {
   "cell_type": "markdown",
   "id": "a3b51349",
   "metadata": {},
   "source": [
    "Vérifiez également le nombre d'éléments dans les tableaux `t` et `V`"
   ]
  },
  {
   "cell_type": "code",
   "execution_count": 7,
   "id": "948cb132",
   "metadata": {},
   "outputs": [],
   "source": [
    "# Ajoutez ici le code pour vérifier le nombre d'éléments dans t (propriété size)\n"
   ]
  },
  {
   "cell_type": "code",
   "execution_count": 8,
   "id": "4a3b84ef",
   "metadata": {},
   "outputs": [],
   "source": [
    "# Ajoutez ici le code pour vérifier le nombre d'éléments dans V\n"
   ]
  },
  {
   "cell_type": "markdown",
   "id": "808b4ab7",
   "metadata": {},
   "source": [
    "Avant de pouvoir travailler sur les données de tensions, deux corrections doivent être apportées :\n",
    "- lors de l'acquisition des données, une amplification d'un facteur `A = 2` a été appliquée. Il faut donc diviser le contenu du tableau `V` par `A`\n",
    "- d'autre part, le système d'acquistion présentait un offset de `offset = 3.2 V`. Il faut donc, après division par `A`, retrancher `offset` à toutes les valeurs de `V`\n",
    "\n",
    "Vous ne devez pas modifier le contenu du tableau `V`. Les données corrigées seront placées dans un tableau nommé `Vcorr`"
   ]
  },
  {
   "cell_type": "code",
   "execution_count": 9,
   "id": "df3146c9",
   "metadata": {},
   "outputs": [],
   "source": [
    "# Ajoutez ici le code pour initialiser les variables A et offset\n"
   ]
  },
  {
   "cell_type": "code",
   "execution_count": 10,
   "id": "00b5253e",
   "metadata": {},
   "outputs": [],
   "source": [
    "# Ajoutez ici le code pour corriger les données (utilisez les variables A et offset)\n"
   ]
  },
  {
   "cell_type": "markdown",
   "id": "5fbe439b",
   "metadata": {},
   "source": [
    "Affichez les cinq premières valeurs de Vcorr pour vous assurer que la correction a été effectuée correctement"
   ]
  },
  {
   "cell_type": "code",
   "execution_count": 12,
   "id": "0108636b",
   "metadata": {},
   "outputs": [],
   "source": [
    "# Ajouter ici le code pour afficher les cinq premières valeurs de Vcorr\n"
   ]
  },
  {
   "cell_type": "markdown",
   "id": "02ca60c3",
   "metadata": {},
   "source": [
    "Vérifiez que le nombre de valeurs dans le tableau `Vcorr` est bien le même que celui dans `V`"
   ]
  },
  {
   "cell_type": "code",
   "execution_count": 13,
   "id": "68b7d515",
   "metadata": {},
   "outputs": [],
   "source": [
    "# Ajoutez ici le code pour afficher le nombre d'éléments dans Vcorr\n"
   ]
  },
  {
   "cell_type": "markdown",
   "id": "8042e253",
   "metadata": {},
   "source": [
    "## Tracé des données brutes"
   ]
  },
  {
   "cell_type": "markdown",
   "id": "95889f5e",
   "metadata": {},
   "source": [
    "Commencez par importer le module `pyplot` depuis la bibliothèque `matplotlib` sous le nom `plt`"
   ]
  },
  {
   "cell_type": "code",
   "execution_count": 15,
   "id": "6ccc825f",
   "metadata": {},
   "outputs": [],
   "source": [
    "# Ajoutez ici le code pour importer le module pyplot de matplotlib sous le nom plt\n"
   ]
  },
  {
   "cell_type": "markdown",
   "id": "c96e54c3",
   "metadata": {},
   "source": [
    "On souhaite tracer le tableau `Vcorr` en fonction du tableau `t`, avec les caractéristiques suivantes :\n",
    "- le tracé doit faire 8 cm de large et 5 cm de haut\n",
    "- le tracé aura pour titre `Tensions corrigées`\n",
    "- la courbe aura le label `Valeurs expérimentales`\n",
    "- le label sur l'axe des x est `t (ms)`\n",
    "- le label sur l'axe des y est `Vcorr (Volts)`\n",
    "- les valeurs ne seront pas reliées par des traits\n",
    "- chaque valeur est représentée par un point de dimension 5, et de couleur rouge\n",
    "- une grille en x et en y de couleur verte\n",
    "- le tracé sera enregistré au format png dans le fichier `tensions_corrigees.png` (vérifiez que le fichier a bien été créé, et qu'il contient le tracé attendu)\n",
    "\n",
    "N'hésitez pas à consulter la dernière partie du cours sur le tracé simple avec Matplotlib"
   ]
  },
  {
   "cell_type": "code",
   "execution_count": 16,
   "id": "0bd8683e",
   "metadata": {},
   "outputs": [],
   "source": [
    "# Ajoutez ici les lignes réalisant le tracé de la courbe\n"
   ]
  },
  {
   "cell_type": "markdown",
   "id": "a8022dca",
   "metadata": {},
   "source": [
    "Créez un tableau `E` de 3001 lignes et 2 colonnes, et contenant uniquement des zéros. Dans la première colonne, placez-y le tableau `t`, et dans la seconde le tableau `Vcorr`. Attention, il faudra peut-être effectuer des transpositions.\n",
    "\n",
    "Enregistrez ensuite le contenu du tableau `E` dans le fichier `donnees_corrigees.csv` en utilisant la fonction numpy `savetxt`. Le séparateur de champ sera la virgule."
   ]
  },
  {
   "cell_type": "code",
   "execution_count": 17,
   "id": "f07200da",
   "metadata": {},
   "outputs": [],
   "source": [
    "# Ajoutez ici les lignes permettant la création du tableau E \n",
    "# puis l'enregistrement de E dans le fichier donnees_corrigees.csv\n"
   ]
  },
  {
   "cell_type": "code",
   "execution_count": 18,
   "id": "82de6151",
   "metadata": {},
   "outputs": [],
   "source": [
    "# Ajoutez ici la ligne permettant de vérifier le contenu de la variable E\n"
   ]
  },
  {
   "cell_type": "markdown",
   "id": "b6336c18",
   "metadata": {},
   "source": [
    "## Lissage de la courbe (moyenne glissante)"
   ]
  },
  {
   "cell_type": "markdown",
   "id": "7811acc1",
   "metadata": {},
   "source": [
    "L'objectif de cette partie est de tracer l'évolution de `Vcorr` en fonction du temps en lissant les fluctuations de la tension dues au bruit. Pour cela, nous allons effectuer une moyenne glissante sur 21 points : pour chaque instant, la valeur de la tension corrigée associée sera la moyenne de la tension corrigée à cet instant, moyennée avec les dix valeurs précédentes, et les dix valeurs suivantes."
   ]
  },
  {
   "cell_type": "markdown",
   "id": "a0323dba",
   "metadata": {},
   "source": [
    "Créez une variable `smoothed_Vcorr` contenant les valeurs de `Vcorr` moyennées par moyenne glissante sur 21 valeurs."
   ]
  },
  {
   "cell_type": "code",
   "execution_count": 19,
   "id": "ed23c237",
   "metadata": {},
   "outputs": [],
   "source": [
    "# Ajoutez ici le code permettant de calculer la moyenne glissante\n"
   ]
  },
  {
   "cell_type": "markdown",
   "id": "1e7aba8c",
   "metadata": {},
   "source": [
    "Vérifier que la variable `smoothed_data` contient bien le même nombre d'éléments que le tableau `t`"
   ]
  },
  {
   "cell_type": "code",
   "execution_count": 20,
   "id": "5af4e17e",
   "metadata": {},
   "outputs": [],
   "source": [
    "# Ajoutez ici le code pour afficher le nombre d'éléments dans smoothed_data\n"
   ]
  },
  {
   "cell_type": "markdown",
   "id": "10c24ced",
   "metadata": {},
   "source": [
    "Vous allez maintenant tracer les données `Vcorr` (courbe 1) et la courbe lissée (courbe 2) en fonction du tableau `t`, avec les caractéristiques suivantes :\n",
    "- le tracé doit faire 8 cm de large et 5 cm de haut\n",
    "- le tracé aura pour titre `Tensions corrigées et lissage`\n",
    "\n",
    "**Courbe 1 :**\n",
    "- la courbe 1 aura le label `Valeurs expérimentales`\n",
    "- les valeurs ne seront pas reliées par des traits\n",
    "- chaque valeur est représentée par un point de dimension 1, et de couleur rouge\n",
    "\n",
    "**Courbe 2 :**\n",
    "- la courbe 2 aura le label `Moyenne glissante (21 valeurs)`\n",
    "- le tracé sera effectué avec des traits continus bleus (pas de marques)\n",
    "\n",
    "- le label sur l'axe des x est `t (ms)`\n",
    "- le label sur l'axe des y est `Vcorr (Volts)`\n",
    "- une grille en x et en y de couleur grise (clarté à 80%)\n",
    "\n",
    "- le tracé sera enregistré au format png dans le fichier `tensions_corrigees.png` (vérifiez que le fichier a bien été créé, et qu'il contient le tracé attendu)"
   ]
  },
  {
   "cell_type": "code",
   "execution_count": 21,
   "id": "48bd89b7",
   "metadata": {},
   "outputs": [],
   "source": [
    "# Ajoutez ici les lignes réalisant le tracé de la courbe\n"
   ]
  },
  {
   "cell_type": "markdown",
   "id": "86d6346a",
   "metadata": {},
   "source": [
    "# Filtrage par transformée de Fourier"
   ]
  },
  {
   "cell_type": "markdown",
   "id": "e320eaab",
   "metadata": {},
   "source": [
    "Dans cette partie, vous allez vous appuyer sur le spectre du signal obtenu par transformée de Fourier rapide pour éliminer une partie du bruit. Vous utiliserez la fonction `fft` de la bibliothèque `fft` de numpy. Le signal étant périodique, il est ainsi possible de supprimer toute la partie du spectre haute fréquence qui se situe au-delà du signal."
   ]
  },
  {
   "cell_type": "markdown",
   "id": "2de2e092",
   "metadata": {},
   "source": [
    "Dans un premier temps, calculez la transformée de Fourier du tableau `Vcorr` et placez le résultat dans la variable `spectre`"
   ]
  },
  {
   "cell_type": "code",
   "execution_count": 22,
   "id": "756a8c29",
   "metadata": {},
   "outputs": [],
   "source": [
    "# Ajoutez ici le code calculant la transformée de Fourier de Vcorr\n"
   ]
  },
  {
   "cell_type": "markdown",
   "id": "c8ba2bf9",
   "metadata": {},
   "source": [
    "Vérifiez que le tableau contenant la transformée de Fourier a les mêmes dimensions que `Vcorr`"
   ]
  },
  {
   "cell_type": "code",
   "execution_count": 23,
   "id": "552de5e9",
   "metadata": {},
   "outputs": [],
   "source": [
    "# Ajoutez ici la ligne affichant le nombre d'éléments dans TF\n"
   ]
  },
  {
   "cell_type": "markdown",
   "id": "aa071eec",
   "metadata": {},
   "source": [
    "Affichez également le type de données contenues dans le tableau `spectre`"
   ]
  },
  {
   "cell_type": "code",
   "execution_count": 24,
   "id": "ce122c3d",
   "metadata": {},
   "outputs": [],
   "source": [
    "# Ajoutez ici la ligne permettant d'afficher le type de données contenu dans spectre\n"
   ]
  },
  {
   "cell_type": "markdown",
   "id": "5869b928",
   "metadata": {},
   "source": [
    "Tracez maintenant en rouge le module normalisé de la transformée de Fourier. Le module s'obtient avec la fonction `abs` appliquée au tableau. Utilisez le label `canal spectral` pour l'axe des x, et `|TF(Vcorr)|` pour l'axe des y.\n",
    "\n",
    "Repérez les pics liés au signal. Vous pouvez choisir les bornes pour l'axe des x grâce à la méthode `plt.xlim( x_min, x_max)`"
   ]
  },
  {
   "cell_type": "code",
   "execution_count": 25,
   "id": "9e178c0d",
   "metadata": {},
   "outputs": [],
   "source": [
    "# Ajoutez ici les lignes permettant de tracer en rouge le module de la transformée de Fourier,\n",
    "# en limitant l'affichage en x de sorte à bien voir le signal\n"
   ]
  },
  {
   "cell_type": "markdown",
   "id": "1f76110e",
   "metadata": {},
   "source": [
    "À partir de quel canal spectral `x_coupure` peut-on supprimer le bruit ?"
   ]
  },
  {
   "cell_type": "code",
   "execution_count": 26,
   "id": "499fd02f",
   "metadata": {},
   "outputs": [],
   "source": [
    "# Ajoutez ici la ligne initialisant la variable x_coupure\n"
   ]
  },
  {
   "cell_type": "markdown",
   "id": "3a003c7a",
   "metadata": {},
   "source": [
    "Créez alors un tableau `filtre_passe_bas` contenant au début `x_coupure` nombres 1, puis des zéros, et enfin `x_coupure` nombres 1 en fin de tableau, de sorte que la taille totale de ce tableau soit la même que celle de `spectre`. Vous pouvez utiliser pour cela la fonction `np.concatenate()`, consultez attentivement la documentation pour la mettre en œuvre."
   ]
  },
  {
   "cell_type": "code",
   "execution_count": 27,
   "id": "251b295f",
   "metadata": {},
   "outputs": [],
   "source": [
    "# Ajouter ici la ligne construisant le filtre passe bas\n"
   ]
  },
  {
   "cell_type": "markdown",
   "id": "a0057e78",
   "metadata": {},
   "source": [
    "Vérifiez que les dimensions de `filtre_passe_bas` sont bien les mêmes que `spectre`"
   ]
  },
  {
   "cell_type": "code",
   "execution_count": 28,
   "id": "78211dd0",
   "metadata": {},
   "outputs": [],
   "source": [
    "# Ajoutez ici le code permettant d'afficher le nombre d'éléments dans filtre_passe_bas\n"
   ]
  },
  {
   "cell_type": "markdown",
   "id": "1adf7b30",
   "metadata": {},
   "source": [
    "Tracez sur le même graphique le module normalisé de la transformée de Fourier de Vcorr en rouge, et le filtre passe bande en bleu. Limitez l'affichage en x pour bien visualiser la superposition des deux."
   ]
  },
  {
   "cell_type": "code",
   "execution_count": 29,
   "id": "626eae7d",
   "metadata": {},
   "outputs": [],
   "source": [
    "# Ajoutez ici le code permettant de tracer le module du spectre en rouge\n",
    "# et le filtre passe bas en bleu\n",
    "# en limitant l'affichage en x de sorte à bien voir le signal\n"
   ]
  },
  {
   "cell_type": "markdown",
   "id": "115bf680",
   "metadata": {},
   "source": [
    "Définissez alors le tableau `spectre_filtre` comme étant le produit de `spectre` et du filtre passe bas."
   ]
  },
  {
   "cell_type": "code",
   "execution_count": 30,
   "id": "ef8e9765",
   "metadata": {},
   "outputs": [],
   "source": [
    "# Ajoutez ici le code permettant de calculer spectre_filtre\n"
   ]
  },
  {
   "cell_type": "markdown",
   "id": "8ef585f2",
   "metadata": {},
   "source": [
    "Tracez ensuite en rouge le module du spectre filtré normalisé en fonction du canal spectral. Vous limiterez l'affichage sur l'axe x de sorte à bien voir le signal."
   ]
  },
  {
   "cell_type": "code",
   "execution_count": 31,
   "id": "51b46be2",
   "metadata": {},
   "outputs": [],
   "source": [
    "# Ajoutez ici le code permettant de tracer en rouge le module du spectre filtré,\n",
    "# en limitant l'affichage en x de sorte à bien voir le signal\n"
   ]
  },
  {
   "cell_type": "markdown",
   "id": "bf39425c",
   "metadata": {},
   "source": [
    "Calculez alors la transformée de Fourier inverse du spectre filtré et stockez le resultat dans la variable `signal_filtre`"
   ]
  },
  {
   "cell_type": "code",
   "execution_count": 32,
   "id": "c47d200b",
   "metadata": {},
   "outputs": [],
   "source": [
    "# Ajoutez ici le code calculant la transformée de Fourier inverse du spectre filtré\n"
   ]
  },
  {
   "cell_type": "markdown",
   "id": "5eb83d90",
   "metadata": {},
   "source": [
    "Tracez sur le même graphique en fonction de la variable `t`\n",
    "- les tensions expérimentales corrigées `Vcorr` (points en rouge de dimension 1, non reliés entre eux)\n",
    "- le signal filtré, en bleu, trait continu\n",
    "\n",
    "Le graphique aura pour titre `Tensions mesurées corrigées et filtrage passe bas`. L'étiquette pour l'axe x sera `t (ms)` et pour l'axe des y `V (Volts)`\n",
    "\n",
    "le tracé sera enregistré au format png dans le fichier `filtrage_passe_bas.png` (vérifiez que le fichier a bien été créé, et qu'il contient le tracé attendu)"
   ]
  },
  {
   "cell_type": "code",
   "execution_count": 33,
   "id": "340a96dd",
   "metadata": {},
   "outputs": [],
   "source": [
    "# Ajoutez ici les lignes permettant de générer le tracé\n"
   ]
  },
  {
   "cell_type": "markdown",
   "id": "28ac4d61",
   "metadata": {},
   "source": [
    "## Ajustement de courbe (curve fitting)"
   ]
  },
  {
   "cell_type": "markdown",
   "id": "1854aecb",
   "metadata": {},
   "source": [
    "Le signal enregistré peut être modélisé par une fonction sinusoïdale, dont l'objectif est d'en déterminer les paramètres de manière optimale à partir des données expérimentales. Vous allez pour cela utiliser une fonction d'optimisation par ajustement de courbe (curve fitting), disponible dans la bibliothèque scientifique `scipy`. Commençons par importer la fonction `curve_fit` depuis le module `optimize` de la bibliothèque `scipy`"
   ]
  },
  {
   "cell_type": "code",
   "execution_count": 35,
   "id": "123d63aa",
   "metadata": {},
   "outputs": [],
   "source": [
    "# Ajoutez ici la ligne de code permettant d'importer la fonction curve_fit depuis le module optimize de la scipy\n"
   ]
  },
  {
   "cell_type": "markdown",
   "id": "9cb28a8d",
   "metadata": {},
   "source": [
    "La documentation des fonctions de la bibliothèque `optimize` est disponible à cette adresse \n",
    "\n",
    "https://docs.scipy.org/doc/scipy/reference/optimize.html"
   ]
  },
  {
   "cell_type": "markdown",
   "id": "1274db2a",
   "metadata": {},
   "source": [
    "Avant de se lancer dans l'ajustement de courbe proprement dit, définissez d'abord les quatre paramètres qui permettent de modéliser une fonction sinusoïdale quelconque. Choisissez bien les noms de ces paramètres pour qu'ils soient le plus parlant possible. L'ajustement consiste justement à trouver les valeurs de ces paramètres de sorte que la courbe ajustée passe au plus près de tous les points expérimentaux.\n",
    "\n",
    "Définissez ensuite la fonction Python personnalisée `func` prenant cinq paramètres : la variable x, puis les quatre paramètres précédemment définis. Cette fonction renverra la valeur du sinus calculé à partir des paramètres de la fonction (utilisez `np.sin`)\n"
   ]
  },
  {
   "cell_type": "code",
   "execution_count": 36,
   "id": "1d1738a7",
   "metadata": {},
   "outputs": [],
   "source": [
    "# Définissez ici la fonction func avec ses cinq paramètres\n"
   ]
  },
  {
   "cell_type": "markdown",
   "id": "92e6f11e",
   "metadata": {},
   "source": [
    "Dans un premier temps, effectuel l'ajustement des données (t,V) avec la fonction `func` définie précédemment, sans chercher à donner de valeurs initiales aux quatre paramètres recherchés."
   ]
  },
  {
   "cell_type": "code",
   "execution_count": 37,
   "id": "deacb257",
   "metadata": {},
   "outputs": [],
   "source": [
    "# Ajoutez ici le code permettant d'effectuer l'ajustement des données, sans donner de valeur initiale aux paramètres\n"
   ]
  },
  {
   "cell_type": "markdown",
   "id": "c402ca89",
   "metadata": {},
   "source": [
    "Affichez alors le contenu du tableau `popt` qui contient les quatre paramètres calculés (dans l'ordre tel que défini dans la fonction `func`)."
   ]
  },
  {
   "cell_type": "code",
   "execution_count": 38,
   "id": "3beccc97",
   "metadata": {},
   "outputs": [],
   "source": [
    "# Ajoutez ici le code pour afficher le contenu de popt\n"
   ]
  },
  {
   "cell_type": "markdown",
   "id": "9d1c83d5",
   "metadata": {},
   "source": [
    "Les valeurs vous semblent-elles cohérentes avec les données expérimentales ?"
   ]
  },
  {
   "cell_type": "markdown",
   "id": "914cf8bc",
   "metadata": {},
   "source": [
    "Vous allez donner maintenant des valeurs initiales aux quatre paramètres. Si ces valeurs sont proches des valeurs cibles (sans chercher à s'en approcher), l'algorithme d'optimisation convergera bien plus facilement vers les solutions optimales. Aidez-vous de la documentation, puis effectuez de nouveau l'ajustement en passant cette fois des valeurs initiales aux paramètres."
   ]
  },
  {
   "cell_type": "code",
   "execution_count": 39,
   "id": "67bf4638",
   "metadata": {},
   "outputs": [],
   "source": [
    "# Ajoutez ici le code pour effectuer l'ajustement des données en passant des valeurs initiales aux paramètres\n"
   ]
  },
  {
   "cell_type": "markdown",
   "id": "b044ee77",
   "metadata": {},
   "source": [
    "Encore une fois, affichez alors le contenu du tableau `popt` contenant les quatre paramètres calculés (dans l'ordre tel que défini dans la fonction `func`). Les valeurs des paramètres vous semblent-elles compatibles avec les données expérimentales ?"
   ]
  },
  {
   "cell_type": "code",
   "execution_count": 40,
   "id": "4c9e9906",
   "metadata": {},
   "outputs": [],
   "source": [
    "# Ajoutez ici le code pour afficher le contenu de popt\n"
   ]
  },
  {
   "cell_type": "markdown",
   "id": "9aca8f92",
   "metadata": {},
   "source": [
    "Vous allez maintenant tracer les données `Vcorr` (courbe 1) et la courbe obtenue par ajustement (courbe 2) en fonction du tableau `t`, avec les caractéristiques suivantes :\n",
    "- le tracé doit faire 8 cm de large et 5 cm de haut\n",
    "- le tracé aura pour titre `Tensions corrigées et ajustement`\n",
    "- le label sur l'axe des x est `t (ms)`\n",
    "- le label sur l'axe des y est `Vcorr (Volts)`\n",
    "- couleur de la grille en x et en y : #8ccca6 (voir https://matplotlib.org/stable/tutorials/colors/colors.html)\n",
    "\n",
    "**Courbe 1 :**\n",
    "- la courbe 1 aura le label `Valeurs expérimentales`\n",
    "- les valeurs ne seront pas reliées par des traits\n",
    "- chaque valeur est représentée par un point de dimension 1, et de couleur rouge\n",
    "\n",
    "**Courbe 2 :**\n",
    "- la courbe 2 aura le label `Ajustement`\n",
    "- le tracé sera effectué avec des traits continus bleus (pas de marques)\n",
    "\n",
    "le tracé sera enregistré au format png dans le fichier `courbe_ajustement.png` (vérifiez que le fichier a bien été créé, et qu'il contient le tracé attendu)"
   ]
  },
  {
   "cell_type": "code",
   "execution_count": 41,
   "id": "60f37f24",
   "metadata": {},
   "outputs": [],
   "source": [
    "# Ajoutez ici les lignes permettant de générer le tracé\n"
   ]
  },
  {
   "cell_type": "code",
   "execution_count": null,
   "id": "a36be4ff",
   "metadata": {},
   "outputs": [],
   "source": []
  }
 ],
 "metadata": {
  "kernelspec": {
   "display_name": "Python 3 (ipykernel)",
   "language": "python",
   "name": "python3"
  },
  "language_info": {
   "codemirror_mode": {
    "name": "ipython",
    "version": 3
   },
   "file_extension": ".py",
   "mimetype": "text/x-python",
   "name": "python",
   "nbconvert_exporter": "python",
   "pygments_lexer": "ipython3",
   "version": "3.10.12"
  }
 },
 "nbformat": 4,
 "nbformat_minor": 5
}
