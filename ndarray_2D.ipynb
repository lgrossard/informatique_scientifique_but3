{
 "cells": [
  {
   "cell_type": "markdown",
   "id": "59f8991c",
   "metadata": {},
   "source": [
    "# Manipulation de ndarray à 2D"
   ]
  },
  {
   "cell_type": "markdown",
   "id": "7f613874",
   "metadata": {},
   "source": [
    "## Création"
   ]
  },
  {
   "cell_type": "markdown",
   "id": "6cd88ef2",
   "metadata": {},
   "source": [
    "Vous connaissez un certain nombre de commandes pour créer des tableau (nd arrays) à une dimension, par exemple np.zeros ou np.ones)\n",
    "\n",
    "Pour créer un tableau à deux dimensions, il suffit d'ajouter shape = (nb_lignes , nb_colonnes) en paramètre de la fonction :"
   ]
  },
  {
   "cell_type": "code",
   "execution_count": null,
   "id": "029da78e",
   "metadata": {},
   "outputs": [],
   "source": [
    "import numpy as np\n",
    "A = np.ones( shape = (2,4))\n",
    "A"
   ]
  },
  {
   "cell_type": "markdown",
   "id": "ce8fd469",
   "metadata": {},
   "source": [
    "On peut retrouver les dimensions d'un tableau avec la commande suivante :"
   ]
  },
  {
   "cell_type": "code",
   "execution_count": null,
   "id": "a97e5215",
   "metadata": {},
   "outputs": [],
   "source": [
    "A.shape"
   ]
  },
  {
   "cell_type": "markdown",
   "id": "d09f6dab",
   "metadata": {},
   "source": [
    "et le nombre d'élément (qui correspond normalement au nombre de lignes × le nombre de colonnes) avec :"
   ]
  },
  {
   "cell_type": "code",
   "execution_count": null,
   "id": "dfd5d248",
   "metadata": {},
   "outputs": [],
   "source": [
    "A.size"
   ]
  },
  {
   "cell_type": "markdown",
   "id": "3d33d76d",
   "metadata": {},
   "source": [
    "## Extraction"
   ]
  },
  {
   "cell_type": "markdown",
   "id": "3abe01e8",
   "metadata": {},
   "source": [
    "Commençons par créer un tableau de 4 lignes et 5 colonnes initialisé avec des nombres aléatoires entre 0 et 1 :"
   ]
  },
  {
   "cell_type": "code",
   "execution_count": null,
   "id": "3bc6e518",
   "metadata": {},
   "outputs": [],
   "source": [
    "B = np.random.rand(4 , 5)\n",
    "B"
   ]
  },
  {
   "cell_type": "markdown",
   "id": "96d6f134",
   "metadata": {},
   "source": [
    "Pour isoler une colonne particulière, on va utiliser le symbole « : », qui peut être compris comme « toutes les valeurs de ». Par exemple, pour isoler la colonne n°1 du tableau B (attention, les indices commencent à 0), on veut sélectionner « toutes les lignes » et « la colonne 1 » :"
   ]
  },
  {
   "cell_type": "code",
   "execution_count": null,
   "id": "2b277d9c",
   "metadata": {},
   "outputs": [],
   "source": [
    "col1 = B[:,1]\n",
    "col1"
   ]
  },
  {
   "cell_type": "markdown",
   "id": "fc94092f",
   "metadata": {},
   "source": [
    "De la même manière, pour isoler la ligne d'indice 3 (la dernière ligne donc), on va sélectionner « la ligne 3 » et « toutes les colonnes » :"
   ]
  },
  {
   "cell_type": "code",
   "execution_count": null,
   "id": "86f015c4",
   "metadata": {},
   "outputs": [],
   "source": [
    "ligne3 = B[3,:]\n",
    "ligne3"
   ]
  },
  {
   "cell_type": "markdown",
   "id": "fcee5058",
   "metadata": {},
   "source": [
    "Supposons que maintenant on souhaite remplacer la ligne 1 par les valeurs 1, 2, 3, 4 et 5. Commençons par créer la ligne que l'on veut insérer :"
   ]
  },
  {
   "cell_type": "code",
   "execution_count": null,
   "id": "e69d6033",
   "metadata": {},
   "outputs": [],
   "source": [
    "ligne = np.array([1. ,2. ,3. ,4. ,5.])\n",
    "ligne"
   ]
  },
  {
   "cell_type": "markdown",
   "id": "59b79bc8",
   "metadata": {},
   "source": [
    "On insère ensuite la ligne dans le tableau B :"
   ]
  },
  {
   "cell_type": "code",
   "execution_count": null,
   "id": "e6f66c44",
   "metadata": {},
   "outputs": [],
   "source": [
    "B[1,:] = ligne\n",
    "B"
   ]
  },
  {
   "cell_type": "markdown",
   "id": "208a7be7",
   "metadata": {},
   "source": [
    "Tentons maintenant de remplacer la colonne 3 par les valeurs 9, 8, 7 et 6. Commençons par créer la colonne que l'on veut insérer :"
   ]
  },
  {
   "cell_type": "code",
   "execution_count": null,
   "id": "24d225c8",
   "metadata": {},
   "outputs": [],
   "source": [
    "colonne = np.array([9., 8., 7., 6.])\n",
    "colonne"
   ]
  },
  {
   "cell_type": "code",
   "execution_count": null,
   "id": "47124f9b",
   "metadata": {},
   "outputs": [],
   "source": [
    "B[:,3] = colonne\n",
    "B"
   ]
  },
  {
   "cell_type": "code",
   "execution_count": null,
   "id": "1c2a1abb",
   "metadata": {},
   "outputs": [],
   "source": []
  }
 ],
 "metadata": {
  "kernelspec": {
   "display_name": "Python 3 (ipykernel)",
   "language": "python",
   "name": "python3"
  },
  "language_info": {
   "codemirror_mode": {
    "name": "ipython",
    "version": 3
   },
   "file_extension": ".py",
   "mimetype": "text/x-python",
   "name": "python",
   "nbconvert_exporter": "python",
   "pygments_lexer": "ipython3",
   "version": "3.10.12"
  }
 },
 "nbformat": 4,
 "nbformat_minor": 5
}
