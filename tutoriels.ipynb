{
 "cells": [
  {
   "cell_type": "markdown",
   "id": "ef1ee0c9",
   "metadata": {},
   "source": [
    "# Tutoriels"
   ]
  },
  {
   "cell_type": "markdown",
   "id": "5f36d850",
   "metadata": {},
   "source": [
    "- [Utilisation (basique) de Jupyter](jupyter.ipynb)\n",
    "- [Manipulation de ndarray à deux dimensions](ndarray_2D.ipynb)"
   ]
  },
  {
   "cell_type": "code",
   "execution_count": null,
   "id": "cfb3c48e",
   "metadata": {},
   "outputs": [],
   "source": []
  }
 ],
 "metadata": {
  "kernelspec": {
   "display_name": "Python 3 (ipykernel)",
   "language": "python",
   "name": "python3"
  },
  "language_info": {
   "codemirror_mode": {
    "name": "ipython",
    "version": 3
   },
   "file_extension": ".py",
   "mimetype": "text/x-python",
   "name": "python",
   "nbconvert_exporter": "python",
   "pygments_lexer": "ipython3",
   "version": "3.10.12"
  }
 },
 "nbformat": 4,
 "nbformat_minor": 5
}
